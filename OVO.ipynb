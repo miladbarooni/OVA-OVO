{
 "cells": [
  {
   "cell_type": "code",
   "execution_count": 49,
   "metadata": {},
   "outputs": [],
   "source": [
    "import pandas as pd\n",
    "import numpy as np\n",
    "import matplotlib.pyplot as plt\n",
    "from sklearn.utils import shuffle\n",
    "import math"
   ]
  },
  {
   "cell_type": "code",
   "execution_count": 50,
   "metadata": {},
   "outputs": [],
   "source": [
    "dataset = pd.read_csv(\"seed.txt\", sep=\"\\t\",\n",
    "                        names=[\"feature1\", \"feature2\", \"feature3\", \"feature4\", \"feature5\", \"feature6\", \"feature7\", \"class\"],\n",
    "                        )\n",
    "for i in range(7):\n",
    "    dataset[f\"feature{i+1}\"] = (dataset[f\"feature{i+1}\"] - dataset[f\"feature{i+1}\"].mean()) / dataset[f\"feature{i+1}\"].std()    \n",
    "dataset\n",
    "\n",
    "def find_majority(k):\n",
    "    myMap = {}\n",
    "    maximum = ( '', 0 )\n",
    "    for n in k:\n",
    "        if n in myMap: myMap[n] += 1\n",
    "        else: myMap[n] = 1\n",
    "        if myMap[n] > maximum[1]: maximum = (n,myMap[n])\n",
    "\n",
    "    return maximum"
   ]
  },
  {
   "cell_type": "code",
   "execution_count": null,
   "metadata": {},
   "outputs": [],
   "source": [
    "class LogisticRegression:\n",
    "    def __init__(self, data, iteration, alpha):\n",
    "        self.first_label = list(data[\"class\"].unique())[0]\n",
    "        self.second_label = list(data[\"class\"].unique())[1]\n",
    "        self.weights = np.zeros(8,1)\n",
    "        \n",
    "        self.X = data.to_numpy()[:,:7]\n",
    "        self.X = np.c_[self.X, np.ones(self.X.shape[0])]\n",
    "        self.y = data.to_numpy()[:,7] \n",
    "        self.y[self.y == self.first_label] = 0\n",
    "        self.y[self.y == self.second_label] = 1\n",
    "\n",
    "        self.cost_list = [0 for i in range(iteration+1)]\n",
    "        self.iteration = iteration\n",
    "        self.alpha = alpha\n",
    "        self.real_iteration = 0\n",
    "    def hypothesis(self, X):\n",
    "        return 1 / (1+np.e**(-np.dot(self.weights.T,X)))\n",
    "\n",
    "    def cost(self):\n",
    "        m, n = self.X.shape\n",
    "        total_error = 0\n",
    "        for i in range(m):\n",
    "            predicted_value = self.hypothesis(self.X[i])\n",
    "            likelihood = (self.y[i]*np.log(predicted_value)) + (1-self.y[i]) * np.log(1-predicted_value)\n",
    "            total_error += likelihood\n",
    "        return total_error\n",
    "\n",
    "\n",
    "\n",
    "    def gradient_calc(self):\n",
    "        m, n = self.X.shape\n",
    "        weights_gradient = np.zeros(self.weights.shape)\n",
    "        \n",
    "        for i in range(n):\n",
    "            for j in range(m):\n",
    "                weights_gradient[i] += (self.y[j] - self.hypothesis(self.X[j])) * self.X[j, i]\n",
    "        return weights_gradient\n",
    "    \n",
    "    def train(self):\n",
    "        m, n = self.X.shape\n",
    "        iteration = 0\n",
    "        while True:\n",
    "            weights_gradient = self.gradient_calc()\n",
    "            for i in range(n):\n",
    "                self.weights[i] = self.weights[i] + self.alpha * weights_gradient[i]\n",
    "            self.cost_list[iteration] = self.cost()[0]\n",
    "            self.real_iteration = iteration\n",
    "            iteration+=1\n",
    "            if iteration >= self.iteration or abs(self.cost_list[iteration-1]-self.cost_list[iteration-2]) <= 0.001:\n",
    "                break\n",
    "    \n",
    "    def draw_cost_function(self):\n",
    "        x = [i for i in range(0, self.real_iteration+1, 1)]\n",
    "        plt.plot(x, self.cost_list[:self.real_iteration+1])"
   ]
  },
  {
   "cell_type": "code",
   "execution_count": 150,
   "metadata": {},
   "outputs": [],
   "source": [
    "class OneVsOne:\n",
    "    def __init__(self, dataset):\n",
    "        self.number_of_class = dataset[\"class\"].nunique()\n",
    "        self.datasets = []\n",
    "        self.logistic_models = []\n",
    "        self.train_data, self.test_data = dataset[:int(0.8*len(dataset))], dataset[int(0.8*len(dataset)):]\n",
    "        # making datasets \n",
    "        m , n = 1, 2\n",
    "        for i in range(self.number_of_class * (self.number_of_class - 1) // 2):\n",
    "            mask = (self.train_data['class'] == m) | (self.train_data['class'] == n)\n",
    "            dataset_temp = self.train_data[mask]\n",
    "            logistic_model = LogisticRegression(dataset_temp, 10000, 0.01)\n",
    "            self.datasets.append(dataset_temp)\n",
    "            self.logistic_models.append(logistic_model)\n",
    "            if (n == self.number_of_class):\n",
    "                m += 1\n",
    "                n = m + 1\n",
    "            else:\n",
    "                n += 1\n",
    "    \n",
    "    def train(self):\n",
    "        for i in range(self.number_of_class * (self.number_of_class - 1) // 2):\n",
    "            print (f\"{i+1} Classifier\")\n",
    "            self.logistic_models[i].train()\n",
    "            self.logistic_models[i].draw_cost_function()\n",
    "\n",
    "    def accuracy_error(self):\n",
    "        test_true = 0\n",
    "        X_test = self.test_data.to_numpy()[:,:7]\n",
    "        X_test = np.c_[X_test, np.ones(X_test.shape[0])]\n",
    "        y_test = self.test_data.to_numpy()[:,7] \n",
    "        for i in range(len(X_test)):\n",
    "            predicts = []\n",
    "            for j in range(self.number_of_class * (self.number_of_class - 1) // 2):\n",
    "                classifier = self.logistic_models[j]\n",
    "                logistic_predict = round(classifier.hypothesis(X_test[i])[0])\n",
    "                if logistic_predict == 1:\n",
    "                    predicts.append(classifier.second_label)\n",
    "                else:\n",
    "                    predicts.append(classifier.first_label)\n",
    "            if find_majority(predicts)[0] == y_test[i]:\n",
    "                test_true += 1\n",
    "        train_true = 0\n",
    "        X_train = self.train_data.to_numpy()[:,:7]\n",
    "        X_train = np.c_[X_train, np.ones(X_train.shape[0])]\n",
    "        y_train = self.train_data.to_numpy()[:,7] \n",
    "        for i in range(len(X_train)):\n",
    "            predicts = []\n",
    "            for j in range(self.number_of_class * (self.number_of_class - 1) // 2):\n",
    "                classifier = self.logistic_models[j]\n",
    "                logistic_predict = round(classifier.hypothesis(X_train[i])[0])\n",
    "                if logistic_predict == 1:\n",
    "                    predicts.append(classifier.second_label)\n",
    "                else:\n",
    "                    predicts.append(classifier.first_label)\n",
    "            if find_majority(predicts)[0] == y_train[i]:\n",
    "                train_true += 1\n",
    "            \n",
    "        print (\"Accuracy on test:\", (test_true/X_test.shape[0])*100)\n",
    "        print (\"Accuracy on train:\",(train_true/X_train.shape[0])*100)\n",
    "        print (\"Error on test:\", (1 - test_true/X_test.shape[0])*100)\n",
    "        print (\"Error on train:\",(1 - train_true/X_train.shape[0])*100)\n",
    "\n",
    "    def draw_cost_function(self):\n",
    "        all_cost = []\n",
    "        all_iterations = []\n",
    "        for model in self.logistic_models:\n",
    "            all_cost.append(model.cost_list)\n",
    "            all_iterations.append(model.real_iteration)\n",
    "        cost_sum = [-sum(x)/3 for x in zip(all_cost[0], all_cost[1], all_cost[2])]\n",
    "        x = [i for i in range(0, max(all_iterations)+1, 1)]\n",
    "        print(all_iterations)\n",
    "        plt.plot(x, cost_sum[:max(all_iterations)+1])"
   ]
  },
  {
   "cell_type": "code",
   "execution_count": 151,
   "metadata": {},
   "outputs": [
    {
     "name": "stdout",
     "output_type": "stream",
     "text": [
      "1 Classifier\n",
      "2 Classifier\n",
      "3 Classifier\n",
      "Accuracy on test: 97.61904761904762\n",
      "Accuracy on train: 98.80952380952381\n",
      "Error on test: 2.3809523809523836\n",
      "Error on train: 1.1904761904761862\n"
     ]
    },
    {
     "data": {
      "image/png": "[encoded data removed]",
      "text/plain": [
       "<Figure size 640x480 with 1 Axes>"
      ]
     },
     "metadata": {},
     "output_type": "display_data"
    }
   ],
   "source": [
    "dataset = shuffle(dataset, random_state=0)\n",
    "OVO = OneVsOne(dataset)\n",
    "OVO.train()\n",
    "OVO.accuracy_error()"
   ]
  },
  {
   "cell_type": "code",
   "execution_count": 152,
   "metadata": {},
   "outputs": [
    {
     "name": "stdout",
     "output_type": "stream",
     "text": [
      "[1991, 1412, 264]\n"
     ]
    },
    {
     "data": {
      "image/png": "[encoded data removed]",
      "text/plain": [
       "<Figure size 640x480 with 1 Axes>"
      ]
     },
     "metadata": {},
     "output_type": "display_data"
    }
   ],
   "source": [
    "OVO.draw_cost_function()"
   ]
  }
 ],
 "metadata": {
  "kernelspec": {
   "display_name": "Python 3.10.8 64-bit",
   "language": "python",
   "name": "python3"
  },
  "language_info": {
   "codemirror_mode": {
    "name": "ipython",
    "version": 3
   },
   "file_extension": ".py",
   "mimetype": "text/x-python",
   "name": "python",
   "nbconvert_exporter": "python",
   "pygments_lexer": "ipython3",
   "version": "3.10.8"
  },
  "orig_nbformat": 4,
  "vscode": {
   "interpreter": {
    "hash": "e7370f93d1d0cde622a1f8e1c04877d8463912d04d973331ad4851f04de6915a"
   }
  }
 },
 "nbformat": 4,
 "nbformat_minor": 2
}
